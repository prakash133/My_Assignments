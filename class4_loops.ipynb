{
 "cells": [
  {
   "cell_type": "code",
   "execution_count": 1,
   "id": "23f80e46-a89e-4ea9-a272-900c100606e5",
   "metadata": {},
   "outputs": [],
   "source": [
    "d1={}"
   ]
  },
  {
   "cell_type": "code",
   "execution_count": 2,
   "id": "c88d0b9b-cd95-4a50-be27-896d271bf636",
   "metadata": {},
   "outputs": [
    {
     "ename": "NameError",
     "evalue": "name 'd' is not defined",
     "output_type": "error",
     "traceback": [
      "\u001b[0;31m---------------------------------------------------------------------------\u001b[0m",
      "\u001b[0;31mNameError\u001b[0m                                 Traceback (most recent call last)",
      "Cell \u001b[0;32mIn[2], line 1\u001b[0m\n\u001b[0;32m----> 1\u001b[0m \u001b[38;5;28mtype\u001b[39m(\u001b[43md\u001b[49m)\n",
      "\u001b[0;31mNameError\u001b[0m: name 'd' is not defined"
     ]
    }
   ],
   "source": [
    "type(d)"
   ]
  },
  {
   "cell_type": "code",
   "execution_count": 3,
   "id": "1bef6457-db0e-4249-96bc-9e432be9a005",
   "metadata": {},
   "outputs": [
    {
     "data": {
      "text/plain": [
       "dict"
      ]
     },
     "execution_count": 3,
     "metadata": {},
     "output_type": "execute_result"
    }
   ],
   "source": [
    "type(d1)"
   ]
  },
  {
   "cell_type": "code",
   "execution_count": 1,
   "id": "0ce8a2a8-fcb2-4e99-aa1c-70abee5e36c6",
   "metadata": {},
   "outputs": [],
   "source": [
    "d1={\"key\":\"name\"}"
   ]
  },
  {
   "cell_type": "code",
   "execution_count": 2,
   "id": "c9bec4bf-e051-40c3-b693-c1bd02a5265b",
   "metadata": {},
   "outputs": [
    {
     "data": {
      "text/plain": [
       "{'key': 'name'}"
      ]
     },
     "execution_count": 2,
     "metadata": {},
     "output_type": "execute_result"
    }
   ],
   "source": [
    "d1"
   ]
  },
  {
   "cell_type": "code",
   "execution_count": 3,
   "id": "02370ece-cc48-4380-a161-92f6ef7b665e",
   "metadata": {},
   "outputs": [],
   "source": [
    "d1={\"id\":\"01\",\"name\":\"prakash\",\"email\":\"prakashbiswal133@gmail.com\",\"addr\":\"odisha\"}"
   ]
  },
  {
   "cell_type": "code",
   "execution_count": 4,
   "id": "30e1a59b-01b7-4f35-b6db-e2c369c78295",
   "metadata": {},
   "outputs": [
    {
     "data": {
      "text/plain": [
       "{'id': '01',\n",
       " 'name': 'prakash',\n",
       " 'email': 'prakashbiswal133@gmail.com',\n",
       " 'addr': 'odisha'}"
      ]
     },
     "execution_count": 4,
     "metadata": {},
     "output_type": "execute_result"
    }
   ],
   "source": [
    "d1"
   ]
  },
  {
   "cell_type": "code",
   "execution_count": 5,
   "id": "6670edd2-31bd-4cd9-b9b9-0237312125fb",
   "metadata": {},
   "outputs": [
    {
     "data": {
      "text/plain": [
       "dict"
      ]
     },
     "execution_count": 5,
     "metadata": {},
     "output_type": "execute_result"
    }
   ],
   "source": [
    "type(d1)"
   ]
  },
  {
   "cell_type": "code",
   "execution_count": 7,
   "id": "6a567748-f04b-42ef-8ba8-02d122c1ac57",
   "metadata": {},
   "outputs": [],
   "source": [
    "d3={\"id\":\"09\",True:987,453:54}"
   ]
  },
  {
   "cell_type": "code",
   "execution_count": 8,
   "id": "9d410d46-7b34-4855-a271-d35bec8f9bd7",
   "metadata": {},
   "outputs": [
    {
     "data": {
      "text/plain": [
       "{'id': '09', True: 987, 453: 54}"
      ]
     },
     "execution_count": 8,
     "metadata": {},
     "output_type": "execute_result"
    }
   ],
   "source": [
    "d3"
   ]
  },
  {
   "cell_type": "code",
   "execution_count": 9,
   "id": "cb918460-b5ee-4760-8bc6-edd329a709bb",
   "metadata": {},
   "outputs": [
    {
     "data": {
      "text/plain": [
       "987"
      ]
     },
     "execution_count": 9,
     "metadata": {},
     "output_type": "execute_result"
    }
   ],
   "source": [
    "d3[1]"
   ]
  },
  {
   "cell_type": "code",
   "execution_count": 10,
   "id": "e1904d4c-40ef-48b0-96a5-e810542c3535",
   "metadata": {},
   "outputs": [
    {
     "ename": "KeyError",
     "evalue": "<built-in function id>",
     "output_type": "error",
     "traceback": [
      "\u001b[0;31m---------------------------------------------------------------------------\u001b[0m",
      "\u001b[0;31mKeyError\u001b[0m                                  Traceback (most recent call last)",
      "Cell \u001b[0;32mIn[10], line 1\u001b[0m\n\u001b[0;32m----> 1\u001b[0m \u001b[43md3\u001b[49m\u001b[43m[\u001b[49m\u001b[38;5;28;43mid\u001b[39;49m\u001b[43m]\u001b[49m\n",
      "\u001b[0;31mKeyError\u001b[0m: <built-in function id>"
     ]
    }
   ],
   "source": [
    "d3[id]"
   ]
  },
  {
   "cell_type": "code",
   "execution_count": 11,
   "id": "dc6059cc-a59f-486c-bdc7-5524682719b9",
   "metadata": {},
   "outputs": [
    {
     "data": {
      "text/plain": [
       "'09'"
      ]
     },
     "execution_count": 11,
     "metadata": {},
     "output_type": "execute_result"
    }
   ],
   "source": [
    "d3[\"id\"]"
   ]
  },
  {
   "cell_type": "code",
   "execution_count": 12,
   "id": "26e2394c-27cd-4089-abd1-8b1513ee5baa",
   "metadata": {},
   "outputs": [
    {
     "ename": "KeyError",
     "evalue": "0",
     "output_type": "error",
     "traceback": [
      "\u001b[0;31m---------------------------------------------------------------------------\u001b[0m",
      "\u001b[0;31mKeyError\u001b[0m                                  Traceback (most recent call last)",
      "Cell \u001b[0;32mIn[12], line 1\u001b[0m\n\u001b[0;32m----> 1\u001b[0m \u001b[43md3\u001b[49m\u001b[43m[\u001b[49m\u001b[38;5;241;43m0\u001b[39;49m\u001b[43m]\u001b[49m\n",
      "\u001b[0;31mKeyError\u001b[0m: 0"
     ]
    }
   ],
   "source": [
    "d3[0]"
   ]
  },
  {
   "cell_type": "code",
   "execution_count": 13,
   "id": "a1ad9984-8fb5-41b2-87a9-ba35001ef529",
   "metadata": {},
   "outputs": [
    {
     "data": {
      "text/plain": [
       "54"
      ]
     },
     "execution_count": 13,
     "metadata": {},
     "output_type": "execute_result"
    }
   ],
   "source": [
    "d3[453]"
   ]
  },
  {
   "cell_type": "code",
   "execution_count": 14,
   "id": "b8c2db57-f662-4bb8-a77e-be284aa745a1",
   "metadata": {},
   "outputs": [],
   "source": [
    "d4={\"name\":\"prak\",\"mail\":\"abc@gmail.com\",\"name\":\"prakash\"}"
   ]
  },
  {
   "cell_type": "code",
   "execution_count": 15,
   "id": "d39bb9c4-4ecd-4905-8bb3-1a9fb1751bfe",
   "metadata": {},
   "outputs": [
    {
     "data": {
      "text/plain": [
       "{'name': 'prakash', 'mail': 'abc@gmail.com'}"
      ]
     },
     "execution_count": 15,
     "metadata": {},
     "output_type": "execute_result"
    }
   ],
   "source": [
    "d4"
   ]
  },
  {
   "cell_type": "code",
   "execution_count": 16,
   "id": "2b8f589b-93ad-48fd-8952-d033ddf78028",
   "metadata": {},
   "outputs": [
    {
     "ename": "NameError",
     "evalue": "name 'name' is not defined",
     "output_type": "error",
     "traceback": [
      "\u001b[0;31m---------------------------------------------------------------------------\u001b[0m",
      "\u001b[0;31mNameError\u001b[0m                                 Traceback (most recent call last)",
      "Cell \u001b[0;32mIn[16], line 1\u001b[0m\n\u001b[0;32m----> 1\u001b[0m d4[\u001b[43mname\u001b[49m]\n",
      "\u001b[0;31mNameError\u001b[0m: name 'name' is not defined"
     ]
    }
   ],
   "source": [
    "d4[name]"
   ]
  },
  {
   "cell_type": "code",
   "execution_count": 17,
   "id": "4c74d803-70e8-4709-8e2f-32028e78a49e",
   "metadata": {},
   "outputs": [
    {
     "data": {
      "text/plain": [
       "'prakash'"
      ]
     },
     "execution_count": 17,
     "metadata": {},
     "output_type": "execute_result"
    }
   ],
   "source": [
    "d4[\"name\"]"
   ]
  },
  {
   "cell_type": "code",
   "execution_count": 18,
   "id": "77e254c8-39fc-4cb2-aeeb-cfaadcbb6739",
   "metadata": {},
   "outputs": [],
   "source": [
    "d5={\"company\":\"pwskills\",\"courses\":[\"datascience\",\"java\",\"c++\"]}"
   ]
  },
  {
   "cell_type": "code",
   "execution_count": 19,
   "id": "b53d5143-b34b-40a5-91e7-313bf98f75d8",
   "metadata": {},
   "outputs": [
    {
     "data": {
      "text/plain": [
       "{'company': 'pwskills', 'courses': ['datascience', 'java', 'c++']}"
      ]
     },
     "execution_count": 19,
     "metadata": {},
     "output_type": "execute_result"
    }
   ],
   "source": [
    "d5"
   ]
  },
  {
   "cell_type": "code",
   "execution_count": 20,
   "id": "e8f28c3d-c649-43ca-8b8e-e3c278f53a40",
   "metadata": {},
   "outputs": [
    {
     "data": {
      "text/plain": [
       "['datascience', 'java', 'c++']"
      ]
     },
     "execution_count": 20,
     "metadata": {},
     "output_type": "execute_result"
    }
   ],
   "source": [
    "d5[\"courses\"]"
   ]
  },
  {
   "cell_type": "code",
   "execution_count": 21,
   "id": "2e2571c9-24c5-4348-a7fb-dbe71ac1a2c5",
   "metadata": {},
   "outputs": [
    {
     "data": {
      "text/plain": [
       "'java'"
      ]
     },
     "execution_count": 21,
     "metadata": {},
     "output_type": "execute_result"
    }
   ],
   "source": [
    "d5[\"courses\"][1]"
   ]
  },
  {
   "cell_type": "code",
   "execution_count": 1,
   "id": "17ac3c2b-e85e-4375-b3e4-af09a40ca1bd",
   "metadata": {},
   "outputs": [],
   "source": [
    "d6={\"id\":123,\"name\":\"prakash\",\"list\":[2,4,6,10],\"tuple\":(\"pra\",78,89.6),\"set\":{24,89,\"biswal\"}}"
   ]
  },
  {
   "cell_type": "code",
   "execution_count": 2,
   "id": "159f6937-6be9-40e0-875c-92fdda986bad",
   "metadata": {},
   "outputs": [
    {
     "data": {
      "text/plain": [
       "{'id': 123,\n",
       " 'name': 'prakash',\n",
       " 'list': [2, 4, 6, 10],\n",
       " 'tuple': ('pra', 78, 89.6),\n",
       " 'set': {24, 89, 'biswal'}}"
      ]
     },
     "execution_count": 2,
     "metadata": {},
     "output_type": "execute_result"
    }
   ],
   "source": [
    "d6"
   ]
  },
  {
   "cell_type": "code",
   "execution_count": 3,
   "id": "555f7577-3e36-4154-a96e-5ecd5d9e354d",
   "metadata": {},
   "outputs": [
    {
     "ename": "TypeError",
     "evalue": "'dict' object is not callable",
     "output_type": "error",
     "traceback": [
      "\u001b[0;31m---------------------------------------------------------------------------\u001b[0m",
      "\u001b[0;31mTypeError\u001b[0m                                 Traceback (most recent call last)",
      "Cell \u001b[0;32mIn[3], line 1\u001b[0m\n\u001b[0;32m----> 1\u001b[0m \u001b[43md6\u001b[49m\u001b[43m(\u001b[49m\u001b[38;5;241;43m3\u001b[39;49m\u001b[43m)\u001b[49m\n",
      "\u001b[0;31mTypeError\u001b[0m: 'dict' object is not callable"
     ]
    }
   ],
   "source": [
    "d6(3)"
   ]
  },
  {
   "cell_type": "code",
   "execution_count": 4,
   "id": "fa51e685-075c-48d1-9a8f-3e1afe1d9a2d",
   "metadata": {},
   "outputs": [
    {
     "ename": "TypeError",
     "evalue": "'dict' object is not callable",
     "output_type": "error",
     "traceback": [
      "\u001b[0;31m---------------------------------------------------------------------------\u001b[0m",
      "\u001b[0;31mTypeError\u001b[0m                                 Traceback (most recent call last)",
      "Cell \u001b[0;32mIn[4], line 1\u001b[0m\n\u001b[0;32m----> 1\u001b[0m \u001b[43md6\u001b[49m\u001b[43m(\u001b[49m\u001b[38;5;241;43m0\u001b[39;49m\u001b[43m)\u001b[49m\n",
      "\u001b[0;31mTypeError\u001b[0m: 'dict' object is not callable"
     ]
    }
   ],
   "source": [
    "d6(0)"
   ]
  },
  {
   "cell_type": "code",
   "execution_count": 5,
   "id": "a1734839-9377-4cc3-adfa-6183382d4874",
   "metadata": {},
   "outputs": [
    {
     "ename": "KeyError",
     "evalue": "<class 'list'>",
     "output_type": "error",
     "traceback": [
      "\u001b[0;31m---------------------------------------------------------------------------\u001b[0m",
      "\u001b[0;31mKeyError\u001b[0m                                  Traceback (most recent call last)",
      "Cell \u001b[0;32mIn[5], line 1\u001b[0m\n\u001b[0;32m----> 1\u001b[0m \u001b[43md6\u001b[49m\u001b[43m[\u001b[49m\u001b[38;5;28;43mlist\u001b[39;49m\u001b[43m]\u001b[49m\n",
      "\u001b[0;31mKeyError\u001b[0m: <class 'list'>"
     ]
    }
   ],
   "source": [
    "d6[list]"
   ]
  },
  {
   "cell_type": "code",
   "execution_count": 6,
   "id": "e9f7487a-176f-43c2-9352-5ecbca736dbd",
   "metadata": {},
   "outputs": [
    {
     "data": {
      "text/plain": [
       "[2, 4, 6, 10]"
      ]
     },
     "execution_count": 6,
     "metadata": {},
     "output_type": "execute_result"
    }
   ],
   "source": [
    "d6[\"list\"]"
   ]
  },
  {
   "cell_type": "code",
   "execution_count": 7,
   "id": "ceef66d2-6af5-4184-a3ed-2631988a7a8c",
   "metadata": {},
   "outputs": [
    {
     "ename": "KeyError",
     "evalue": "2",
     "output_type": "error",
     "traceback": [
      "\u001b[0;31m---------------------------------------------------------------------------\u001b[0m",
      "\u001b[0;31mKeyError\u001b[0m                                  Traceback (most recent call last)",
      "Cell \u001b[0;32mIn[7], line 1\u001b[0m\n\u001b[0;32m----> 1\u001b[0m \u001b[43md6\u001b[49m\u001b[43m[\u001b[49m\u001b[38;5;241;43m2\u001b[39;49m\u001b[43m]\u001b[49m\n",
      "\u001b[0;31mKeyError\u001b[0m: 2"
     ]
    }
   ],
   "source": [
    "d6[2]"
   ]
  },
  {
   "cell_type": "code",
   "execution_count": 9,
   "id": "f3787e34-4dec-45e2-bcc6-0f80bf984a17",
   "metadata": {},
   "outputs": [
    {
     "data": {
      "text/plain": [
       "10"
      ]
     },
     "execution_count": 9,
     "metadata": {},
     "output_type": "execute_result"
    }
   ],
   "source": [
    "d6[\"list\"][3]"
   ]
  },
  {
   "cell_type": "code",
   "execution_count": 10,
   "id": "7d7c642f-5eba-40ab-ab7e-2bb3368d2e68",
   "metadata": {},
   "outputs": [
    {
     "data": {
      "text/plain": [
       "{'id': 123,\n",
       " 'name': 'prakash',\n",
       " 'list': [2, 4, 6, 10],\n",
       " 'tuple': ('pra', 78, 89.6),\n",
       " 'set': {24, 89, 'biswal'}}"
      ]
     },
     "execution_count": 10,
     "metadata": {},
     "output_type": "execute_result"
    }
   ],
   "source": [
    "d6"
   ]
  },
  {
   "cell_type": "code",
   "execution_count": 11,
   "id": "c47734f0-4636-49d6-bef1-6aed3b9fa338",
   "metadata": {},
   "outputs": [],
   "source": [
    "d6[\"mentor\"]=[\"sudhansu\",\"krish\",\"prakash\",\"hitesh\"]"
   ]
  },
  {
   "cell_type": "code",
   "execution_count": 12,
   "id": "1d4f4685-f5e8-43f6-94ac-d92f8c8c82ba",
   "metadata": {},
   "outputs": [
    {
     "data": {
      "text/plain": [
       "{'id': 123,\n",
       " 'name': 'prakash',\n",
       " 'list': [2, 4, 6, 10],\n",
       " 'tuple': ('pra', 78, 89.6),\n",
       " 'set': {24, 89, 'biswal'},\n",
       " 'mentor': ['sudhansu', 'krish', 'prakash', 'hitesh']}"
      ]
     },
     "execution_count": 12,
     "metadata": {},
     "output_type": "execute_result"
    }
   ],
   "source": [
    "d6"
   ]
  },
  {
   "cell_type": "code",
   "execution_count": 13,
   "id": "e0a31055-fe7c-48e2-b6d6-d67ab078302c",
   "metadata": {},
   "outputs": [],
   "source": [
    "del d6['name']"
   ]
  },
  {
   "cell_type": "code",
   "execution_count": 14,
   "id": "4ebd0780-897a-4272-b9af-79a110791427",
   "metadata": {},
   "outputs": [
    {
     "data": {
      "text/plain": [
       "{'id': 123,\n",
       " 'list': [2, 4, 6, 10],\n",
       " 'tuple': ('pra', 78, 89.6),\n",
       " 'set': {24, 89, 'biswal'},\n",
       " 'mentor': ['sudhansu', 'krish', 'prakash', 'hitesh']}"
      ]
     },
     "execution_count": 14,
     "metadata": {},
     "output_type": "execute_result"
    }
   ],
   "source": [
    "d6"
   ]
  },
  {
   "cell_type": "code",
   "execution_count": 15,
   "id": "57bfc99e-0ef2-4051-9f9c-f6ebe50d97c6",
   "metadata": {},
   "outputs": [
    {
     "data": {
      "text/plain": [
       "dict_keys(['id', 'list', 'tuple', 'set', 'mentor'])"
      ]
     },
     "execution_count": 15,
     "metadata": {},
     "output_type": "execute_result"
    }
   ],
   "source": [
    "d6.keys()"
   ]
  },
  {
   "cell_type": "code",
   "execution_count": 16,
   "id": "f403accb-0b2e-4304-a989-b93d0b24fbe0",
   "metadata": {},
   "outputs": [
    {
     "data": {
      "text/plain": [
       "['id', 'list', 'tuple', 'set', 'mentor']"
      ]
     },
     "execution_count": 16,
     "metadata": {},
     "output_type": "execute_result"
    }
   ],
   "source": [
    "list(d6.keys())"
   ]
  },
  {
   "cell_type": "code",
   "execution_count": 17,
   "id": "aa81ac1f-8cb6-4180-a25f-a2fd1861ae2f",
   "metadata": {},
   "outputs": [
    {
     "data": {
      "text/plain": [
       "dict_items([('id', 123), ('list', [2, 4, 6, 10]), ('tuple', ('pra', 78, 89.6)), ('set', {24, 89, 'biswal'}), ('mentor', ['sudhansu', 'krish', 'prakash', 'hitesh'])])"
      ]
     },
     "execution_count": 17,
     "metadata": {},
     "output_type": "execute_result"
    }
   ],
   "source": [
    "d6.items()"
   ]
  },
  {
   "cell_type": "code",
   "execution_count": 18,
   "id": "60d026c2-9418-4183-a87b-a8bbe67c4ca7",
   "metadata": {},
   "outputs": [
    {
     "data": {
      "text/plain": [
       "[('id', 123),\n",
       " ('list', [2, 4, 6, 10]),\n",
       " ('tuple', ('pra', 78, 89.6)),\n",
       " ('set', {24, 89, 'biswal'}),\n",
       " ('mentor', ['sudhansu', 'krish', 'prakash', 'hitesh'])]"
      ]
     },
     "execution_count": 18,
     "metadata": {},
     "output_type": "execute_result"
    }
   ],
   "source": [
    "list(d6.items())"
   ]
  },
  {
   "cell_type": "code",
   "execution_count": 1,
   "id": "75d06f75-23b9-4430-b411-30338e74e4e7",
   "metadata": {},
   "outputs": [
    {
     "ename": "NameError",
     "evalue": "name 'd6' is not defined",
     "output_type": "error",
     "traceback": [
      "\u001b[0;31m---------------------------------------------------------------------------\u001b[0m",
      "\u001b[0;31mNameError\u001b[0m                                 Traceback (most recent call last)",
      "Cell \u001b[0;32mIn[1], line 1\u001b[0m\n\u001b[0;32m----> 1\u001b[0m \u001b[43md6\u001b[49m\n",
      "\u001b[0;31mNameError\u001b[0m: name 'd6' is not defined"
     ]
    }
   ],
   "source": [
    "d6"
   ]
  },
  {
   "cell_type": "code",
   "execution_count": 2,
   "id": "c8549e94-4b78-4f50-9b45-e36d3680d403",
   "metadata": {},
   "outputs": [
    {
     "ename": "NameError",
     "evalue": "name 'd6' is not defined",
     "output_type": "error",
     "traceback": [
      "\u001b[0;31m---------------------------------------------------------------------------\u001b[0m",
      "\u001b[0;31mNameError\u001b[0m                                 Traceback (most recent call last)",
      "Cell \u001b[0;32mIn[2], line 1\u001b[0m\n\u001b[0;32m----> 1\u001b[0m \u001b[43md6\u001b[49m\n",
      "\u001b[0;31mNameError\u001b[0m: name 'd6' is not defined"
     ]
    }
   ],
   "source": [
    "d6"
   ]
  },
  {
   "cell_type": "code",
   "execution_count": 3,
   "id": "55a00f36-58f6-45f3-b083-0512886bf2b7",
   "metadata": {},
   "outputs": [],
   "source": [
    "d6={\"id\":123,\"name\":\"prakash\",\"list\":[2,4,6,10],\"tuple\":(\"pra\",78,89.6),\"set\":{24,89,\"biswal\"}}"
   ]
  },
  {
   "cell_type": "code",
   "execution_count": 4,
   "id": "06d9ad50-bcb6-4635-9c76-557ec26f722a",
   "metadata": {},
   "outputs": [
    {
     "data": {
      "text/plain": [
       "{'id': 123,\n",
       " 'name': 'prakash',\n",
       " 'list': [2, 4, 6, 10],\n",
       " 'tuple': ('pra', 78, 89.6),\n",
       " 'set': {24, 89, 'biswal'}}"
      ]
     },
     "execution_count": 4,
     "metadata": {},
     "output_type": "execute_result"
    }
   ],
   "source": [
    "d6"
   ]
  },
  {
   "cell_type": "code",
   "execution_count": 5,
   "id": "68c601dd-2a46-4f45-ba36-537cc0c2b846",
   "metadata": {},
   "outputs": [
    {
     "data": {
      "text/plain": [
       "{24, 89, 'biswal'}"
      ]
     },
     "execution_count": 5,
     "metadata": {},
     "output_type": "execute_result"
    }
   ],
   "source": [
    "d6.pop('set')"
   ]
  },
  {
   "cell_type": "code",
   "execution_count": 6,
   "id": "206b51b9-b603-4d12-b5f7-79d5b4cd0c58",
   "metadata": {},
   "outputs": [
    {
     "data": {
      "text/plain": [
       "{'id': 123,\n",
       " 'name': 'prakash',\n",
       " 'list': [2, 4, 6, 10],\n",
       " 'tuple': ('pra', 78, 89.6)}"
      ]
     },
     "execution_count": 6,
     "metadata": {},
     "output_type": "execute_result"
    }
   ],
   "source": [
    "d6"
   ]
  },
  {
   "cell_type": "code",
   "execution_count": 26,
   "id": "81477b41-ec9b-4694-b17f-71371b6ccbb1",
   "metadata": {},
   "outputs": [
    {
     "name": "stdout",
     "output_type": "stream",
     "text": [
      "you will be a part of A1\n"
     ]
    }
   ],
   "source": [
    "marks = 62\n",
    "if marks >=80 :\n",
    "    print(\"you will be a part of A0\")\n",
    "elif marks >= 60 and marks < 80 :\n",
    "    print(\"you will be a part of A1\")\n",
    "elif marks >=40 and marks< 60 :\n",
    "    print(\"you will be a part of A2\")\n",
    "else :\n",
    "    print(\"you will be a part of A3\")"
   ]
  },
  {
   "cell_type": "code",
   "execution_count": 23,
   "id": "25963b96-53b3-4507-8898-38a10bbe7052",
   "metadata": {},
   "outputs": [
    {
     "ename": "SyntaxError",
     "evalue": "invalid syntax (2281404976.py, line 4)",
     "output_type": "error",
     "traceback": [
      "\u001b[0;36m  Cell \u001b[0;32mIn[23], line 4\u001b[0;36m\u001b[0m\n\u001b[0;31m    elif marks <80 and >= 60:\u001b[0m\n\u001b[0m                       ^\u001b[0m\n\u001b[0;31mSyntaxError\u001b[0m\u001b[0;31m:\u001b[0m invalid syntax\n"
     ]
    }
   ],
   "source": [
    "marks=65\n",
    "if marks >=80:\n",
    "    print(\"a1 batch\")\n",
    "elif marks <80 and >= 60:\n",
    "    print(\"a2 batch\")\n",
    "else:\n",
    "    print(\"you will be a part of a3 batch\")"
   ]
  },
  {
   "cell_type": "code",
   "execution_count": 24,
   "id": "94776a15-ee39-40a4-b93a-412dd7e89f17",
   "metadata": {},
   "outputs": [
    {
     "name": "stdout",
     "output_type": "stream",
     "text": [
      "a1\n"
     ]
    }
   ],
   "source": [
    "marks=60\n",
    "if marks >=80:\n",
    "    print(\"A0\")\n",
    "elif marks >=60 and marks <80\n",
    "else:\n",
    "    print(\"a1\")"
   ]
  },
  {
   "cell_type": "code",
   "execution_count": 27,
   "id": "aba82f27-ecbd-4e34-89f9-6886144f9967",
   "metadata": {},
   "outputs": [
    {
     "name": "stdin",
     "output_type": "stream",
     "text": [
      "Enter your marks :  67\n"
     ]
    },
    {
     "name": "stdout",
     "output_type": "stream",
     "text": [
      "you will be a part of A1\n"
     ]
    }
   ],
   "source": [
    "marks = int(input(\"Enter your marks : \"))\n",
    "if marks >=80 :\n",
    "    print(\"you will be a part of A0\")\n",
    "elif marks >= 60 and marks < 80 :\n",
    "    print(\"you will be a part of A1\")\n",
    "elif marks >=40 and marks< 60 :\n",
    "    print(\"you will be a part of A2\")\n",
    "else :\n",
    "    print(\"you will be a part of A3\")"
   ]
  },
  {
   "cell_type": "code",
   "execution_count": 28,
   "id": "3100d25d-3351-4943-a899-90b6125f22ba",
   "metadata": {},
   "outputs": [
    {
     "data": {
      "text/plain": [
       "int"
      ]
     },
     "execution_count": 28,
     "metadata": {},
     "output_type": "execute_result"
    }
   ],
   "source": [
    "type(marks)"
   ]
  },
  {
   "cell_type": "code",
   "execution_count": 30,
   "id": "f2e30c58-b8e4-4e6a-abf7-64b3523c0aff",
   "metadata": {},
   "outputs": [
    {
     "name": "stdin",
     "output_type": "stream",
     "text": [
      "enter a price 200\n"
     ]
    },
    {
     "name": "stdout",
     "output_type": "stream",
     "text": [
      "I will purchase\n"
     ]
    }
   ],
   "source": [
    "price=int(input(\"enter a price\"))\n",
    "if price>=1000:\n",
    "    print(\"I will not purchase\")\n",
    "else:\n",
    "    print(\"I will purchase\")"
   ]
  },
  {
   "cell_type": "code",
   "execution_count": 2,
   "id": "f6ea15e9-f04f-4b3f-bc13-97799001342e",
   "metadata": {},
   "outputs": [],
   "source": [
    "l1=[1,2,3,4,5,6]"
   ]
  },
  {
   "cell_type": "code",
   "execution_count": 32,
   "id": "70156a9e-3087-4777-b89e-2d07ec898ba6",
   "metadata": {},
   "outputs": [
    {
     "data": {
      "text/plain": [
       "[1, 2, 3, 4, 5, 6]"
      ]
     },
     "execution_count": 32,
     "metadata": {},
     "output_type": "execute_result"
    }
   ],
   "source": [
    "l1"
   ]
  },
  {
   "cell_type": "code",
   "execution_count": 33,
   "id": "9c6ba99b-9e17-4008-8fc4-b306da1f42b0",
   "metadata": {},
   "outputs": [
    {
     "ename": "TypeError",
     "evalue": "'list' object is not callable",
     "output_type": "error",
     "traceback": [
      "\u001b[0;31m---------------------------------------------------------------------------\u001b[0m",
      "\u001b[0;31mTypeError\u001b[0m                                 Traceback (most recent call last)",
      "Cell \u001b[0;32mIn[33], line 1\u001b[0m\n\u001b[0;32m----> 1\u001b[0m \u001b[43ml1\u001b[49m\u001b[43m(\u001b[49m\u001b[38;5;241;43m0\u001b[39;49m\u001b[43m)\u001b[49m\n",
      "\u001b[0;31mTypeError\u001b[0m: 'list' object is not callable"
     ]
    }
   ],
   "source": [
    "l1(0)"
   ]
  },
  {
   "cell_type": "code",
   "execution_count": 34,
   "id": "312ef589-c326-425e-8f8b-9bc710542044",
   "metadata": {},
   "outputs": [
    {
     "data": {
      "text/plain": [
       "1"
      ]
     },
     "execution_count": 34,
     "metadata": {},
     "output_type": "execute_result"
    }
   ],
   "source": [
    "l1[0]"
   ]
  },
  {
   "cell_type": "code",
   "execution_count": 35,
   "id": "d646db5f-ac4e-4d83-ba3c-d85f2a137705",
   "metadata": {},
   "outputs": [
    {
     "data": {
      "text/plain": [
       "2"
      ]
     },
     "execution_count": 35,
     "metadata": {},
     "output_type": "execute_result"
    }
   ],
   "source": [
    "l1[0]+1"
   ]
  },
  {
   "cell_type": "code",
   "execution_count": 36,
   "id": "07fa8eb2-3052-4ad8-beba-86587728e555",
   "metadata": {},
   "outputs": [
    {
     "ename": "SyntaxError",
     "evalue": "invalid decimal literal (3887004321.py, line 1)",
     "output_type": "error",
     "traceback": [
      "\u001b[0;36m  Cell \u001b[0;32mIn[36], line 1\u001b[0;36m\u001b[0m\n\u001b[0;31m    l2=[l1[0]+1.append()]\u001b[0m\n\u001b[0m               ^\u001b[0m\n\u001b[0;31mSyntaxError\u001b[0m\u001b[0;31m:\u001b[0m invalid decimal literal\n"
     ]
    }
   ],
   "source": [
    "l2=[l1[0]+1.append()]"
   ]
  },
  {
   "cell_type": "code",
   "execution_count": 37,
   "id": "7019c358-e8ca-4dd2-ab5a-32a4a2e5de78",
   "metadata": {},
   "outputs": [
    {
     "ename": "NameError",
     "evalue": "name 'l2' is not defined",
     "output_type": "error",
     "traceback": [
      "\u001b[0;31m---------------------------------------------------------------------------\u001b[0m",
      "\u001b[0;31mNameError\u001b[0m                                 Traceback (most recent call last)",
      "Cell \u001b[0;32mIn[37], line 1\u001b[0m\n\u001b[0;32m----> 1\u001b[0m \u001b[43ml2\u001b[49m\u001b[38;5;241m.\u001b[39mappend(l1[\u001b[38;5;241m0\u001b[39m]\u001b[38;5;241m+\u001b[39m\u001b[38;5;241m1\u001b[39m)\n",
      "\u001b[0;31mNameError\u001b[0m: name 'l2' is not defined"
     ]
    }
   ],
   "source": [
    "l2.append(l1[0]+1)"
   ]
  },
  {
   "cell_type": "code",
   "execution_count": 38,
   "id": "f74c85fc-7758-4f5a-94fb-7ccbc5abacf3",
   "metadata": {},
   "outputs": [],
   "source": [
    "l2=[]"
   ]
  },
  {
   "cell_type": "code",
   "execution_count": 39,
   "id": "a281111f-3f46-448d-b706-ba27126faceb",
   "metadata": {},
   "outputs": [],
   "source": [
    "l2.append(l1[0]+1)"
   ]
  },
  {
   "cell_type": "code",
   "execution_count": 40,
   "id": "d616e1a7-5b58-4791-80a9-f5bf75cbcc8e",
   "metadata": {},
   "outputs": [
    {
     "data": {
      "text/plain": [
       "[2]"
      ]
     },
     "execution_count": 40,
     "metadata": {},
     "output_type": "execute_result"
    }
   ],
   "source": [
    "l2"
   ]
  },
  {
   "cell_type": "code",
   "execution_count": 41,
   "id": "4ffc6b74-4f8f-4b53-addc-99284ba6616c",
   "metadata": {},
   "outputs": [
    {
     "ename": "SyntaxError",
     "evalue": "expected ':' (3248119303.py, line 1)",
     "output_type": "error",
     "traceback": [
      "\u001b[0;36m  Cell \u001b[0;32mIn[41], line 1\u001b[0;36m\u001b[0m\n\u001b[0;31m    for i in l1\u001b[0m\n\u001b[0m               ^\u001b[0m\n\u001b[0;31mSyntaxError\u001b[0m\u001b[0;31m:\u001b[0m expected ':'\n"
     ]
    }
   ],
   "source": [
    "for i in l1\n",
    "print i"
   ]
  },
  {
   "cell_type": "code",
   "execution_count": 42,
   "id": "5d2097d4-f8a3-4f3f-bdf2-4c6ad78b4684",
   "metadata": {},
   "outputs": [
    {
     "ename": "SyntaxError",
     "evalue": "Missing parentheses in call to 'print'. Did you mean print(...)? (1587584069.py, line 2)",
     "output_type": "error",
     "traceback": [
      "\u001b[0;36m  Cell \u001b[0;32mIn[42], line 2\u001b[0;36m\u001b[0m\n\u001b[0;31m    print i\u001b[0m\n\u001b[0m    ^\u001b[0m\n\u001b[0;31mSyntaxError\u001b[0m\u001b[0;31m:\u001b[0m Missing parentheses in call to 'print'. Did you mean print(...)?\n"
     ]
    }
   ],
   "source": [
    "for i in l1:\n",
    "    print i"
   ]
  },
  {
   "cell_type": "code",
   "execution_count": 43,
   "id": "4c00d3a3-0ab6-4acf-9c76-8f83dab34457",
   "metadata": {},
   "outputs": [
    {
     "name": "stdout",
     "output_type": "stream",
     "text": [
      "1\n",
      "2\n",
      "3\n",
      "4\n",
      "5\n",
      "6\n"
     ]
    }
   ],
   "source": [
    "for i in l1:\n",
    "    print(i)"
   ]
  },
  {
   "cell_type": "code",
   "execution_count": 44,
   "id": "176f7803-0b0d-4d06-b34f-b12e62d43613",
   "metadata": {},
   "outputs": [
    {
     "ename": "SyntaxError",
     "evalue": "expected ':' (1222002937.py, line 1)",
     "output_type": "error",
     "traceback": [
      "\u001b[0;36m  Cell \u001b[0;32mIn[44], line 1\u001b[0;36m\u001b[0m\n\u001b[0;31m    for i in l1\u001b[0m\n\u001b[0m               ^\u001b[0m\n\u001b[0;31mSyntaxError\u001b[0m\u001b[0;31m:\u001b[0m expected ':'\n"
     ]
    }
   ],
   "source": [
    "for i in l1\n",
    "print(i)"
   ]
  },
  {
   "cell_type": "code",
   "execution_count": 45,
   "id": "d2dfb8eb-f72f-45df-9ba8-c8079c129d39",
   "metadata": {},
   "outputs": [
    {
     "name": "stdout",
     "output_type": "stream",
     "text": [
      "1\n",
      "2\n",
      "3\n",
      "4\n",
      "5\n",
      "6\n"
     ]
    }
   ],
   "source": [
    "for i in l1:\n",
    "    print(i)"
   ]
  },
  {
   "cell_type": "code",
   "execution_count": 46,
   "id": "187c20a7-78d5-456a-99c1-9f2636a835ee",
   "metadata": {},
   "outputs": [
    {
     "name": "stdout",
     "output_type": "stream",
     "text": [
      "1\n",
      "2\n",
      "3\n",
      "4\n",
      "5\n",
      "6\n"
     ]
    }
   ],
   "source": [
    "for j in l1:\n",
    "    print(j)"
   ]
  },
  {
   "cell_type": "code",
   "execution_count": 47,
   "id": "3d08b4a3-8caf-40e3-8adb-c605391b9a50",
   "metadata": {},
   "outputs": [
    {
     "name": "stdout",
     "output_type": "stream",
     "text": [
      "1\n",
      "2\n",
      "3\n",
      "4\n",
      "5\n",
      "6\n"
     ]
    }
   ],
   "source": [
    "for a in l1:\n",
    "    print(a)"
   ]
  },
  {
   "cell_type": "code",
   "execution_count": 48,
   "id": "d7d15f08-abe3-419d-968a-1dccb83f003b",
   "metadata": {},
   "outputs": [
    {
     "name": "stdout",
     "output_type": "stream",
     "text": [
      "[1, 2, 3, 4, 5, 6]\n",
      "[1, 2, 3, 4, 5, 6]\n",
      "[1, 2, 3, 4, 5, 6]\n",
      "[1, 2, 3, 4, 5, 6]\n",
      "[1, 2, 3, 4, 5, 6]\n",
      "[1, 2, 3, 4, 5, 6]\n"
     ]
    }
   ],
   "source": [
    "for i in l1:\n",
    "    print(l1)"
   ]
  },
  {
   "cell_type": "code",
   "execution_count": 1,
   "id": "482edeaa-6061-42a1-bd01-609c86d7e1e6",
   "metadata": {},
   "outputs": [
    {
     "ename": "NameError",
     "evalue": "name 'l1' is not defined",
     "output_type": "error",
     "traceback": [
      "\u001b[0;31m---------------------------------------------------------------------------\u001b[0m",
      "\u001b[0;31mNameError\u001b[0m                                 Traceback (most recent call last)",
      "Cell \u001b[0;32mIn[1], line 1\u001b[0m\n\u001b[0;32m----> 1\u001b[0m \u001b[38;5;28;01mfor\u001b[39;00m i \u001b[38;5;129;01min\u001b[39;00m \u001b[43ml1\u001b[49m:\n\u001b[1;32m      2\u001b[0m     \u001b[38;5;28mprint\u001b[39m(i)\n",
      "\u001b[0;31mNameError\u001b[0m: name 'l1' is not defined"
     ]
    }
   ],
   "source": [
    "for i in l1:\n",
    "    print(i)"
   ]
  },
  {
   "cell_type": "code",
   "execution_count": 3,
   "id": "2f92869e-84dc-4cd6-815d-8af874337a87",
   "metadata": {},
   "outputs": [],
   "source": [
    "l1=[1,2,3,4,5,6]"
   ]
  },
  {
   "cell_type": "code",
   "execution_count": 4,
   "id": "12a6e124-e703-417c-9f28-15736a55cf02",
   "metadata": {},
   "outputs": [
    {
     "name": "stdout",
     "output_type": "stream",
     "text": [
      "[1, 2, 3, 4, 5, 6]\n",
      "[1, 2, 3, 4, 5, 6]\n",
      "[1, 2, 3, 4, 5, 6]\n",
      "[1, 2, 3, 4, 5, 6]\n",
      "[1, 2, 3, 4, 5, 6]\n",
      "[1, 2, 3, 4, 5, 6]\n"
     ]
    }
   ],
   "source": [
    "for i in l1:\n",
    "    print(l1)"
   ]
  },
  {
   "cell_type": "code",
   "execution_count": 5,
   "id": "61d84582-1579-47e9-8459-0bb759a0604d",
   "metadata": {},
   "outputs": [
    {
     "name": "stdout",
     "output_type": "stream",
     "text": [
      "1\n",
      "2\n",
      "3\n",
      "4\n",
      "5\n",
      "6\n"
     ]
    }
   ],
   "source": [
    "for i in l1:\n",
    "    print(i)"
   ]
  },
  {
   "cell_type": "code",
   "execution_count": 6,
   "id": "93c32922-95a9-49a9-b5ff-96d566b06c44",
   "metadata": {},
   "outputs": [
    {
     "name": "stdout",
     "output_type": "stream",
     "text": [
      "2\n",
      "3\n",
      "4\n",
      "5\n",
      "6\n",
      "7\n"
     ]
    }
   ],
   "source": [
    "for i in l1:\n",
    "    print(i+1)"
   ]
  },
  {
   "cell_type": "code",
   "execution_count": 7,
   "id": "1681965c-e0a4-4d59-8816-1984e6ea1339",
   "metadata": {},
   "outputs": [],
   "source": [
    "l2=[]"
   ]
  },
  {
   "cell_type": "code",
   "execution_count": 8,
   "id": "4230785a-3ffd-4586-8bf6-51acd72760f6",
   "metadata": {},
   "outputs": [],
   "source": [
    "l2.append(i+1)"
   ]
  },
  {
   "cell_type": "code",
   "execution_count": 9,
   "id": "4f1f18ef-0a64-451a-940b-d58a342528e9",
   "metadata": {},
   "outputs": [
    {
     "data": {
      "text/plain": [
       "[7]"
      ]
     },
     "execution_count": 9,
     "metadata": {},
     "output_type": "execute_result"
    }
   ],
   "source": [
    "l2"
   ]
  },
  {
   "cell_type": "code",
   "execution_count": 1,
   "id": "0337ec1b-b972-4948-9011-3d53ca03c7ca",
   "metadata": {},
   "outputs": [],
   "source": [
    "l1=[1,2,3,4,5]"
   ]
  },
  {
   "cell_type": "code",
   "execution_count": 2,
   "id": "22d2f838-4ccd-4361-a158-766a0a025b7f",
   "metadata": {},
   "outputs": [
    {
     "data": {
      "text/plain": [
       "[1, 2, 3, 4, 5]"
      ]
     },
     "execution_count": 2,
     "metadata": {},
     "output_type": "execute_result"
    }
   ],
   "source": [
    "l1"
   ]
  },
  {
   "cell_type": "code",
   "execution_count": 3,
   "id": "05777c6a-1fb9-4399-89ca-0bad90f52b78",
   "metadata": {},
   "outputs": [
    {
     "name": "stdout",
     "output_type": "stream",
     "text": [
      "2\n",
      "3\n",
      "4\n",
      "5\n",
      "6\n"
     ]
    }
   ],
   "source": [
    "for i in l1:\n",
    "    print(i+1)"
   ]
  },
  {
   "cell_type": "code",
   "execution_count": 4,
   "id": "4e324b93-4d99-4aff-ba6a-b683b3f04297",
   "metadata": {},
   "outputs": [
    {
     "data": {
      "text/plain": [
       "[1, 2, 3, 4, 5]"
      ]
     },
     "execution_count": 4,
     "metadata": {},
     "output_type": "execute_result"
    }
   ],
   "source": [
    "l1"
   ]
  },
  {
   "cell_type": "code",
   "execution_count": 5,
   "id": "c95e8b39-c11a-4da4-8446-0a0174ae2f97",
   "metadata": {},
   "outputs": [],
   "source": [
    "l2=[]"
   ]
  },
  {
   "cell_type": "code",
   "execution_count": 1,
   "id": "4ce61db5-ed15-4ece-a0ce-76cc8f5bedce",
   "metadata": {},
   "outputs": [
    {
     "ename": "NameError",
     "evalue": "name 'l2' is not defined",
     "output_type": "error",
     "traceback": [
      "\u001b[0;31m---------------------------------------------------------------------------\u001b[0m",
      "\u001b[0;31mNameError\u001b[0m                                 Traceback (most recent call last)",
      "Cell \u001b[0;32mIn[1], line 1\u001b[0m\n\u001b[0;32m----> 1\u001b[0m \u001b[43ml2\u001b[49m\n",
      "\u001b[0;31mNameError\u001b[0m: name 'l2' is not defined"
     ]
    }
   ],
   "source": [
    "l2"
   ]
  },
  {
   "cell_type": "code",
   "execution_count": 2,
   "id": "572e8312-7c9c-44c8-83a2-96715be02500",
   "metadata": {},
   "outputs": [],
   "source": [
    "l1=[1,2,3,4,5]"
   ]
  },
  {
   "cell_type": "code",
   "execution_count": 3,
   "id": "3b7f8c63-ae22-4eac-914b-948203170697",
   "metadata": {},
   "outputs": [
    {
     "data": {
      "text/plain": [
       "[1, 2, 3, 4, 5]"
      ]
     },
     "execution_count": 3,
     "metadata": {},
     "output_type": "execute_result"
    }
   ],
   "source": [
    "l1"
   ]
  },
  {
   "cell_type": "code",
   "execution_count": 4,
   "id": "1ca456c9-ddbe-48eb-9536-46344cca93f6",
   "metadata": {},
   "outputs": [
    {
     "name": "stdout",
     "output_type": "stream",
     "text": [
      "2\n",
      "3\n",
      "4\n",
      "5\n",
      "6\n"
     ]
    }
   ],
   "source": [
    "for i in l1:\n",
    "    print(i+1)"
   ]
  },
  {
   "cell_type": "code",
   "execution_count": 5,
   "id": "f522a3ed-5b7a-498c-806d-cd786547ff10",
   "metadata": {},
   "outputs": [],
   "source": [
    "l2=[]"
   ]
  },
  {
   "cell_type": "code",
   "execution_count": 6,
   "id": "7962e354-d5a2-40d9-bba1-394b3c6b5f82",
   "metadata": {},
   "outputs": [
    {
     "ename": "IndexError",
     "evalue": "list index out of range",
     "output_type": "error",
     "traceback": [
      "\u001b[0;31m---------------------------------------------------------------------------\u001b[0m",
      "\u001b[0;31mIndexError\u001b[0m                                Traceback (most recent call last)",
      "Cell \u001b[0;32mIn[6], line 2\u001b[0m\n\u001b[1;32m      1\u001b[0m \u001b[38;5;28;01mfor\u001b[39;00m i \u001b[38;5;129;01min\u001b[39;00m l1:\n\u001b[0;32m----> 2\u001b[0m     l2\u001b[38;5;241m.\u001b[39mappend(\u001b[43ml1\u001b[49m\u001b[43m[\u001b[49m\u001b[43mi\u001b[49m\u001b[38;5;241;43m+\u001b[39;49m\u001b[38;5;241;43m1\u001b[39;49m\u001b[43m]\u001b[49m)\n",
      "\u001b[0;31mIndexError\u001b[0m: list index out of range"
     ]
    }
   ],
   "source": [
    "for i in l1:\n",
    "    l2.append(l1[i+1])"
   ]
  },
  {
   "cell_type": "code",
   "execution_count": 7,
   "id": "e85412af-cec4-4593-a465-177d7c5790d0",
   "metadata": {},
   "outputs": [
    {
     "name": "stdout",
     "output_type": "stream",
     "text": [
      "2\n",
      "3\n",
      "4\n",
      "5\n",
      "6\n"
     ]
    }
   ],
   "source": [
    "l3=[]\n",
    "for i in l1:\n",
    "    print(i+1)\n",
    "    l3.append(i+1)"
   ]
  },
  {
   "cell_type": "code",
   "execution_count": 8,
   "id": "619c0536-f4eb-4827-ba57-cfc03e2e665b",
   "metadata": {},
   "outputs": [
    {
     "name": "stdout",
     "output_type": "stream",
     "text": [
      "[2, 3, 4, 5, 6]\n"
     ]
    }
   ],
   "source": [
    "print(l3)"
   ]
  },
  {
   "cell_type": "code",
   "execution_count": 9,
   "id": "7ef9b1e8-82e5-43b3-9556-82afea857b66",
   "metadata": {},
   "outputs": [
    {
     "ename": "TypeError",
     "evalue": "'list' object is not callable",
     "output_type": "error",
     "traceback": [
      "\u001b[0;31m---------------------------------------------------------------------------\u001b[0m",
      "\u001b[0;31mTypeError\u001b[0m                                 Traceback (most recent call last)",
      "Cell \u001b[0;32mIn[9], line 3\u001b[0m\n\u001b[1;32m      1\u001b[0m l4\u001b[38;5;241m=\u001b[39m[\u001b[38;5;124m'\u001b[39m\u001b[38;5;124mpra\u001b[39m\u001b[38;5;124m'\u001b[39m,\u001b[38;5;124m'\u001b[39m\u001b[38;5;124mkash\u001b[39m\u001b[38;5;124m'\u001b[39m,\u001b[38;5;124m'\u001b[39m\u001b[38;5;124mbis\u001b[39m\u001b[38;5;124m'\u001b[39m,\u001b[38;5;124m'\u001b[39m\u001b[38;5;124mwal\u001b[39m\u001b[38;5;124m'\u001b[39m]\n\u001b[1;32m      2\u001b[0m \u001b[38;5;28;01mfor\u001b[39;00m i \u001b[38;5;129;01min\u001b[39;00m l4:\n\u001b[0;32m----> 3\u001b[0m     \u001b[38;5;28mprint\u001b[39m(\u001b[43ml4\u001b[49m\u001b[43m(\u001b[49m\u001b[43mi\u001b[49m\u001b[43m)\u001b[49m\u001b[38;5;241m.\u001b[39muppercase)\n",
      "\u001b[0;31mTypeError\u001b[0m: 'list' object is not callable"
     ]
    }
   ],
   "source": [
    "l4=['pra','kash','bis','wal']\n",
    "for i in l4:\n",
    "    print(l4(i).uppercase)"
   ]
  },
  {
   "cell_type": "code",
   "execution_count": 10,
   "id": "127fe3ce-49b0-4aeb-862d-4a4d6d284465",
   "metadata": {},
   "outputs": [
    {
     "data": {
      "text/plain": [
       "'pra'"
      ]
     },
     "execution_count": 10,
     "metadata": {},
     "output_type": "execute_result"
    }
   ],
   "source": [
    "l4[0]"
   ]
  },
  {
   "cell_type": "code",
   "execution_count": 16,
   "id": "c020d712-9d2c-4f37-9d08-53acc968f276",
   "metadata": {},
   "outputs": [
    {
     "name": "stdout",
     "output_type": "stream",
     "text": [
      "pra\n",
      "['PRA']\n",
      "kash\n",
      "['PRA', 'KASH']\n",
      "bis\n",
      "['PRA', 'KASH', 'BIS']\n",
      "wal\n",
      "['PRA', 'KASH', 'BIS', 'WAL']\n"
     ]
    }
   ],
   "source": [
    "l5=[]\n",
    "for i in l4:\n",
    "    print(i)\n",
    "    l5.append(i.upper())\n",
    "    print(l5)"
   ]
  },
  {
   "cell_type": "code",
   "execution_count": 12,
   "id": "59a34021-177f-4d03-86fd-de6749d83635",
   "metadata": {},
   "outputs": [
    {
     "ename": "TypeError",
     "evalue": "'builtin_function_or_method' object is not subscriptable",
     "output_type": "error",
     "traceback": [
      "\u001b[0;31m---------------------------------------------------------------------------\u001b[0m",
      "\u001b[0;31mTypeError\u001b[0m                                 Traceback (most recent call last)",
      "Cell \u001b[0;32mIn[12], line 2\u001b[0m\n\u001b[1;32m      1\u001b[0m \u001b[38;5;28;01mfor\u001b[39;00m i \u001b[38;5;129;01min\u001b[39;00m l4:\n\u001b[0;32m----> 2\u001b[0m     \u001b[38;5;28;43mprint\u001b[39;49m\u001b[43m[\u001b[49m\u001b[43mi\u001b[49m\u001b[43m]\u001b[49m\n",
      "\u001b[0;31mTypeError\u001b[0m: 'builtin_function_or_method' object is not subscriptable"
     ]
    }
   ],
   "source": [
    "for i in l4:\n",
    "    print[i]"
   ]
  },
  {
   "cell_type": "code",
   "execution_count": 17,
   "id": "d5cd89a7-6c18-49bc-8794-0d2a879cb856",
   "metadata": {},
   "outputs": [
    {
     "data": {
      "text/plain": [
       "['PRA', 'KASH', 'BIS', 'WAL']"
      ]
     },
     "execution_count": 17,
     "metadata": {},
     "output_type": "execute_result"
    }
   ],
   "source": [
    "l5"
   ]
  },
  {
   "cell_type": "code",
   "execution_count": 18,
   "id": "90aa78c2-6ba1-41ed-abb6-6919931c9cb5",
   "metadata": {},
   "outputs": [],
   "source": [
    "l=[23,56,78,89.45,'pra','kash','bis','wal']"
   ]
  },
  {
   "cell_type": "code",
   "execution_count": 19,
   "id": "81c7523c-5a59-4d64-a728-300b7e51ff61",
   "metadata": {},
   "outputs": [
    {
     "data": {
      "text/plain": [
       "[23, 56, 78, 89.45, 'pra', 'kash', 'bis', 'wal']"
      ]
     },
     "execution_count": 19,
     "metadata": {},
     "output_type": "execute_result"
    }
   ],
   "source": [
    "l"
   ]
  },
  {
   "cell_type": "code",
   "execution_count": 20,
   "id": "cf0b9607-9e5b-406d-90a8-299987b660bb",
   "metadata": {},
   "outputs": [
    {
     "ename": "SyntaxError",
     "evalue": "invalid syntax (1921835812.py, line 1)",
     "output_type": "error",
     "traceback": [
      "\u001b[0;36m  Cell \u001b[0;32mIn[20], line 1\u001b[0;36m\u001b[0m\n\u001b[0;31m    l1[]\u001b[0m\n\u001b[0m       ^\u001b[0m\n\u001b[0;31mSyntaxError\u001b[0m\u001b[0;31m:\u001b[0m invalid syntax\n"
     ]
    }
   ],
   "source": [
    "l1[]\n",
    "l2[]\n",
    "for i in l:\n",
    "    print(i)"
   ]
  },
  {
   "cell_type": "code",
   "execution_count": 23,
   "id": "8c7b97c9-dba6-4670-99bd-015c43df0471",
   "metadata": {},
   "outputs": [
    {
     "name": "stdout",
     "output_type": "stream",
     "text": [
      "23\n",
      "56\n",
      "78\n",
      "89.45\n",
      "pra\n",
      "kash\n",
      "bis\n",
      "wal\n"
     ]
    }
   ],
   "source": [
    "for i in l:\n",
    "    print(i)"
   ]
  },
  {
   "cell_type": "code",
   "execution_count": 36,
   "id": "9deeccb8-02ed-4204-80c9-9d8ec4594b0f",
   "metadata": {},
   "outputs": [
    {
     "name": "stdout",
     "output_type": "stream",
     "text": [
      "23\n",
      "56\n",
      "78\n",
      "89.45\n",
      "pra\n",
      "kash\n",
      "bis\n",
      "wal\n"
     ]
    }
   ],
   "source": [
    "l1=[]\n",
    "l2=[]\n",
    "for i in l:\n",
    "    print(i)\n",
    "    if type(i)==int or type (i)==float:\n",
    "            l1.append(i)\n",
    "    else:\n",
    "            l2.append(i)\n"
   ]
  },
  {
   "cell_type": "code",
   "execution_count": 25,
   "id": "e913ea41-39a7-4d42-9fcd-e72a2c43c4ab",
   "metadata": {},
   "outputs": [
    {
     "data": {
      "text/plain": [
       "[]"
      ]
     },
     "execution_count": 25,
     "metadata": {},
     "output_type": "execute_result"
    }
   ],
   "source": [
    "l1"
   ]
  },
  {
   "cell_type": "code",
   "execution_count": 26,
   "id": "6d09c7a0-6d72-496d-9325-151ea0c29e7a",
   "metadata": {},
   "outputs": [
    {
     "data": {
      "text/plain": [
       "['wal']"
      ]
     },
     "execution_count": 26,
     "metadata": {},
     "output_type": "execute_result"
    }
   ],
   "source": [
    "l2"
   ]
  },
  {
   "cell_type": "code",
   "execution_count": 28,
   "id": "0fc90073-1bdd-47dd-a66b-55e9c7c64593",
   "metadata": {},
   "outputs": [
    {
     "data": {
      "text/plain": [
       "[]"
      ]
     },
     "execution_count": 28,
     "metadata": {},
     "output_type": "execute_result"
    }
   ],
   "source": [
    "l1"
   ]
  },
  {
   "cell_type": "code",
   "execution_count": 34,
   "id": "cd7ab261-4cb9-4d89-9f52-d9802a36a436",
   "metadata": {},
   "outputs": [
    {
     "data": {
      "text/plain": [
       "[]"
      ]
     },
     "execution_count": 34,
     "metadata": {},
     "output_type": "execute_result"
    }
   ],
   "source": [
    "l1"
   ]
  },
  {
   "cell_type": "code",
   "execution_count": 35,
   "id": "19760470-a199-4f66-aeef-deab9d57d6f6",
   "metadata": {},
   "outputs": [
    {
     "data": {
      "text/plain": [
       "['wal']"
      ]
     },
     "execution_count": 35,
     "metadata": {},
     "output_type": "execute_result"
    }
   ],
   "source": [
    "l2"
   ]
  },
  {
   "cell_type": "code",
   "execution_count": 37,
   "id": "4d1c024b-4cb6-4189-b17f-db26d83e7205",
   "metadata": {},
   "outputs": [
    {
     "data": {
      "text/plain": [
       "[23, 56, 78, 89.45]"
      ]
     },
     "execution_count": 37,
     "metadata": {},
     "output_type": "execute_result"
    }
   ],
   "source": [
    "l1"
   ]
  },
  {
   "cell_type": "code",
   "execution_count": 38,
   "id": "3f49a80a-e15f-49a3-981c-a9e18c281098",
   "metadata": {},
   "outputs": [
    {
     "data": {
      "text/plain": [
       "['pra', 'kash', 'bis', 'wal']"
      ]
     },
     "execution_count": 38,
     "metadata": {},
     "output_type": "execute_result"
    }
   ],
   "source": [
    "l2"
   ]
  },
  {
   "cell_type": "code",
   "execution_count": null,
   "id": "0d6524d0-7623-49c4-934e-c5371a5f44c2",
   "metadata": {},
   "outputs": [],
   "source": []
  }
 ],
 "metadata": {
  "kernelspec": {
   "display_name": "Python 3 (ipykernel)",
   "language": "python",
   "name": "python3"
  },
  "language_info": {
   "codemirror_mode": {
    "name": "ipython",
    "version": 3
   },
   "file_extension": ".py",
   "mimetype": "text/x-python",
   "name": "python",
   "nbconvert_exporter": "python",
   "pygments_lexer": "ipython3",
   "version": "3.10.8"
  }
 },
 "nbformat": 4,
 "nbformat_minor": 5
}
